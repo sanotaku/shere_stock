{
 "cells": [
  {
   "cell_type": "code",
   "execution_count": 1,
   "metadata": {},
   "outputs": [],
   "source": [
    "# import libraries\n",
    "import matplotlib.pyplot as plt\n",
    "import numpy as np\n",
    "import pandas as pd\n",
    "import pandas_datareader\n",
    "\n",
    "import talib as ta"
   ]
  },
  {
   "cell_type": "code",
   "execution_count": 2,
   "metadata": {},
   "outputs": [
    {
     "name": "stdout",
     "output_type": "stream",
     "text": [
      "Run RSI:3 / Amount:14.372592612718421\n",
      "Run RSI:4 / Amount:15.74078168469813\n",
      "Run RSI:5 / Amount:14.988318481507914\n",
      "Run RSI:6 / Amount:12.069698257543568\n",
      "Run RSI:7 / Amount:10.658833403273196\n",
      "Run RSI:8 / Amount:9.92080033347229\n",
      "Run RSI:9 / Amount:9.92080033347229\n",
      "Run RSI:10 / Amount:0.0\n",
      "Run RSI:11 / Amount:0.0\n",
      "Run RSI:12 / Amount:0.0\n",
      "Run RSI:13 / Amount:0.0\n",
      "Run RSI:14 / Amount:0.0\n",
      "Run RSI:15 / Amount:0.0\n",
      "Run RSI:16 / Amount:0.0\n",
      "Run RSI:17 / Amount:0.0\n",
      "Run RSI:18 / Amount:0.0\n",
      "Run RSI:19 / Amount:0.0\n"
     ]
    }
   ],
   "source": [
    "# fetch stock data by STOOQ\n",
    "df = pandas_datareader.DataReader('1321.JP', 'stooq')\n",
    "df = df.sort_index().tail(100)  # sorted by date\n",
    "\n",
    "\n",
    "# set RSI range\n",
    "START_SPAN = 3\n",
    "END_SPAN = 20\n",
    "spans = np.arange(START_SPAN, END_SPAN, 1)\n",
    "\n",
    "# set signal\n",
    "Low_thres = 30\n",
    "High_thres = 70\n",
    "Low_span = 6\n",
    "High_span = 16\n",
    "best_Amount = []\n",
    "PL_Amount_arr = []\n",
    "best_span = 0\n",
    "\n",
    "\n",
    "# optimized Best RSI\n",
    "for span in spans:\n",
    "\n",
    "    Asset = 100000 # Init 100000yen\n",
    "    first = Asset\n",
    "    Stock = 0\n",
    "    Stock_arr = [0]\n",
    "    Asset_arr = [Asset]\n",
    "    \n",
    "    # set RSI cal data\n",
    "    df[\"RSI\"] = ta.RSI(df[\"Close\"], span)\n",
    "    \n",
    "    for i in range(1, len(df)):\n",
    "        \n",
    "        Asset_arr.append(Asset)\n",
    "        Stock_arr.append(Stock)\n",
    "\n",
    "        # Buy\n",
    "        if df.iloc[i][\"RSI\"] > Low_thres and df.iloc[i-1][\"RSI\"] < Low_thres:\n",
    "            if Asset_arr[i] != 0:\n",
    "                Stock = Asset / df.iloc[i][\"Close\"]\n",
    "                Asset = 0\n",
    "\n",
    "\n",
    "        # Sell\n",
    "        if df.iloc[i][\"RSI\"] < High_thres and df.iloc[i-1][\"RSI\"] > High_thres:\n",
    "            if Stock_arr[i] != 0:\n",
    "                Asset = Stock * df.iloc[i][\"Close\"]\n",
    "                Stock = 0\n",
    "    \n",
    "    # If you still have stock, sell it            \n",
    "    last = Asset + Stock * df.iloc[-1][\"Close\"]\n",
    "    PL_Amount_arr.append(((last - first)/first)*100)\n",
    "\n",
    "    print(\"Run RSI:{} / Amount:{}\".format(span, (((last - first)/first)*100)))"
   ]
  },
  {
   "cell_type": "code",
   "execution_count": null,
   "metadata": {},
   "outputs": [],
   "source": []
  }
 ],
 "metadata": {
  "kernelspec": {
   "display_name": "Python 3",
   "language": "python",
   "name": "python3"
  },
  "language_info": {
   "codemirror_mode": {
    "name": "ipython",
    "version": 3
   },
   "file_extension": ".py",
   "mimetype": "text/x-python",
   "name": "python",
   "nbconvert_exporter": "python",
   "pygments_lexer": "ipython3",
   "version": "3.7.3"
  }
 },
 "nbformat": 4,
 "nbformat_minor": 4
}
